{
 "cells": [
  {
   "metadata": {},
   "cell_type": "markdown",
   "source": [
    "# Modeling for FlowMovieML\n",
    "\n",
    "implement a XGBoost model for predict worldwide gross of a movie."
   ],
   "id": "d7e8bb086917eb66"
  },
  {
   "metadata": {
    "ExecuteTime": {
     "end_time": "2024-05-26T01:36:17.714008Z",
     "start_time": "2024-05-26T01:36:16.647758Z"
    }
   },
   "cell_type": "code",
   "source": [
    "import numpy as np\n",
    "import pandas as pd\n",
    "\n",
    "from sklearn.model_selection import train_test_split\n",
    "from sklearn.pipeline import Pipeline\n",
    "from sklearn.impute import SimpleImputer\n",
    "from sklearn.model_selection import cross_validate\n",
    "\n",
    "from xgboost import XGBRegressor"
   ],
   "id": "672f75238081cd9b",
   "execution_count": 1,
   "outputs": []
  },
  {
   "metadata": {
    "ExecuteTime": {
     "end_time": "2024-05-26T01:36:17.721094Z",
     "start_time": "2024-05-26T01:36:17.714833Z"
    }
   },
   "cell_type": "code",
   "source": [
    "# Open the dataset\n",
    "\n",
    "df = pd.read_csv('../dataset/clean_dataset.csv')"
   ],
   "id": "708c9fd91fcd7aff",
   "execution_count": 2,
   "outputs": []
  },
  {
   "metadata": {
    "ExecuteTime": {
     "end_time": "2024-05-26T01:36:17.726297Z",
     "start_time": "2024-05-26T01:36:17.721631Z"
    }
   },
   "cell_type": "code",
   "source": [
    "# Split the dataset\n",
    "\n",
    "X = df.drop('worldwide_gross', axis=1)\n",
    "y = df['worldwide_gross']\n",
    "\n",
    "X_train , X_test, y_train, y_test = train_test_split(X, y, test_size=0.4, random_state=36)"
   ],
   "id": "3beee835d2acdca7",
   "execution_count": 3,
   "outputs": []
  },
  {
   "metadata": {
    "ExecuteTime": {
     "end_time": "2024-05-26T01:36:17.730541Z",
     "start_time": "2024-05-26T01:36:17.727247Z"
    }
   },
   "cell_type": "code",
   "source": [
    "# Normalize the dataset\n",
    "\n",
    "from sklearn.preprocessing import StandardScaler\n",
    "\n",
    "scaler = StandardScaler()\n",
    "X_train = scaler.fit_transform(X_train)\n",
    "X_test = scaler.transform(X_test)"
   ],
   "id": "386dca275b94a2c5",
   "execution_count": 4,
   "outputs": []
  },
  {
   "metadata": {
    "ExecuteTime": {
     "end_time": "2024-05-26T01:36:18.314755Z",
     "start_time": "2024-05-26T01:36:17.731042Z"
    }
   },
   "cell_type": "code",
   "source": [
    "# Pipeline\n",
    "\n",
    "model = Pipeline([\n",
    "    ('imputer', SimpleImputer(missing_values=np.nan, strategy='mean')),\n",
    "    ('core_model', XGBRegressor())\n",
    "])\n",
    "\n",
    "results = cross_validate(model, X_train, y_train, cv=10, return_train_score=True)"
   ],
   "id": "84f838f4b235a69d",
   "execution_count": 5,
   "outputs": []
  },
  {
   "metadata": {
    "ExecuteTime": {
     "end_time": "2024-05-26T01:36:18.317409Z",
     "start_time": "2024-05-26T01:36:18.315371Z"
    }
   },
   "cell_type": "code",
   "source": [
    "# Results\n",
    "\n",
    "print(results)"
   ],
   "id": "9c492cb07457ac51",
   "execution_count": 6,
   "outputs": []
  },
  {
   "metadata": {
    "ExecuteTime": {
     "end_time": "2024-05-26T01:36:37.961512Z",
     "start_time": "2024-05-26T01:36:37.949873Z"
    }
   },
   "cell_type": "code",
   "source": [
    "train_score = np.mean(results['train_score'])\n",
    "test_score = np.mean(results['test_score'])\n",
    "\n",
    "assert train_score > 0.6\n",
    "assert test_score > 0.6\n",
    "\n",
    "print('Train Score:', train_score)\n",
    "print('Test Score:', test_score)"
   ],
   "id": "fb726417ad3f7ded",
   "execution_count": 8,
   "outputs": []
  },
  {
   "metadata": {
    "ExecuteTime": {
     "end_time": "2024-05-26T01:40:26.156790Z",
     "start_time": "2024-05-26T01:40:26.023875Z"
    }
   },
   "cell_type": "code",
   "source": "model.fit(X_train, y_train)",
   "id": "bf936bb08bae28bd",
   "execution_count": 10,
   "outputs": []
  },
  {
   "metadata": {
    "ExecuteTime": {
     "end_time": "2024-05-26T01:40:38.477502Z",
     "start_time": "2024-05-26T01:40:38.451884Z"
    }
   },
   "cell_type": "code",
   "source": "model.score(X_test, y_test)",
   "id": "2122049b7a0d038e",
   "execution_count": 11,
   "outputs": []
  },
  {
   "metadata": {
    "ExecuteTime": {
     "end_time": "2024-05-26T01:41:38.732609Z",
     "start_time": "2024-05-26T01:41:38.718129Z"
    }
   },
   "cell_type": "code",
   "source": [
    "# Save the model\n",
    "\n",
    "from joblib import dump\n",
    "\n",
    "dump(model, '../model/model.pkl')"
   ],
   "id": "4683333992bfefd3",
   "execution_count": 13,
   "outputs": []
  },
  {
   "metadata": {
    "ExecuteTime": {
     "end_time": "2024-05-26T01:42:53.890543Z",
     "start_time": "2024-05-26T01:42:53.880476Z"
    }
   },
   "cell_type": "code",
   "source": [
    "# Save the scaler\n",
    "\n",
    "dump(scaler, '../model/scaler.pkl')"
   ],
   "id": "be0c610df7651452",
   "execution_count": 18,
   "outputs": []
  }
 ],
 "metadata": {
  "kernelspec": {
   "display_name": "Python 3",
   "language": "python",
   "name": "python3"
  },
  "language_info": {
   "codemirror_mode": {
    "name": "ipython",
    "version": 2
   },
   "file_extension": ".py",
   "mimetype": "text/x-python",
   "name": "python",
   "nbconvert_exporter": "python",
   "pygments_lexer": "ipython2",
   "version": "2.7.6"
  }
 },
 "nbformat": 4,
 "nbformat_minor": 5
}
